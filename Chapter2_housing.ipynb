{
  "nbformat": 4,
  "nbformat_minor": 0,
  "metadata": {
    "colab": {
      "private_outputs": true,
      "provenance": [],
      "collapsed_sections": [
        "UKdRIK24T9ia",
        "YH8xCR0YYEUC",
        "0lHW4BALllWe",
        "yi2FLJP4fXoW"
      ],
      "mount_file_id": "1Hk-OTxHfoaa-oSUlrTKJw1mjHMoSCP6B",
      "authorship_tag": "ABX9TyOQwoLdIV3NsDKBpliF/qjV",
      "include_colab_link": true
    },
    "kernelspec": {
      "name": "python3",
      "display_name": "Python 3"
    },
    "language_info": {
      "name": "python"
    },
    "gpuClass": "standard"
  },
  "cells": [
    {
      "cell_type": "markdown",
      "metadata": {
        "id": "view-in-github",
        "colab_type": "text"
      },
      "source": [
        "<a href=\"https://colab.research.google.com/github/taekyungss/Hands_on_ML_Study/blob/main/Chapter2_housing.ipynb\" target=\"_parent\"><img src=\"https://colab.research.google.com/assets/colab-badge.svg\" alt=\"Open In Colab\"/></a>"
      ]
    },
    {
      "cell_type": "markdown",
      "source": [
        "# **chapter2. 머신러닝 프로젝트 처음부터 끝까지**"
      ],
      "metadata": {
        "id": "sgCv6nVxAckj"
      }
    },
    {
      "cell_type": "markdown",
      "source": [
        "### 데이터 다운로드"
      ],
      "metadata": {
        "id": "UKdRIK24T9ia"
      }
    },
    {
      "cell_type": "code",
      "execution_count": null,
      "metadata": {
        "id": "VrC_Z9mnAYe9"
      },
      "outputs": [],
      "source": [
        "import os\n",
        "import tarfile\n",
        "import urllib\n",
        "\n",
        "DOWNLOAD_ROOT = \"https://raw.githubusercontent.com/rickiepark/handson-ml2/master/\"\n",
        "HOUSING_PATH = os.path.join(\"datasets\", \"housing\")\n",
        "HOUSING_URL = DOWNLOAD_ROOT + \"datasets/housing/housing.tgz\"\n",
        "\n",
        "def fetch_housing_data(housing_url = HOUSING_URL, housing_path = HOUSING_PATH):\n",
        "  os.makedirs(housing_path,exist_ok =True)\n",
        "  tgz_path = os.path.join(housing_path, \"housing.tgz\")\n",
        "  urllib.request.urlretrieve(housing_url, tgz_path)\n",
        "  housing_tgz = tarfile.open(tgz_path)\n",
        "  housing_tgz.extractall(path = housing_path)\n",
        "  housing_tgz.close()"
      ]
    },
    {
      "cell_type": "code",
      "source": [
        "fetch_housing_data()"
      ],
      "metadata": {
        "id": "q91xUDSnWtBX"
      },
      "execution_count": null,
      "outputs": []
    },
    {
      "cell_type": "code",
      "source": [
        "# 판다스 사용해 데이터 읽어오기 - 데이터 프레임 객체 반환"
      ],
      "metadata": {
        "id": "EYdCiaAxXz5Y"
      },
      "execution_count": null,
      "outputs": []
    },
    {
      "cell_type": "code",
      "source": [
        "import pandas as pd\n",
        "\n",
        "def load_housing_data(housing_path = HOUSING_PATH):\n",
        "  csv_path = os.path.join(housing_path,\"housing.csv\")\n",
        "  return pd.read_csv(csv_path)"
      ],
      "metadata": {
        "id": "FQQ5JUqxWAeB"
      },
      "execution_count": null,
      "outputs": []
    },
    {
      "cell_type": "markdown",
      "source": [
        "### 데이터 구조 흝어보기"
      ],
      "metadata": {
        "id": "YH8xCR0YYEUC"
      }
    },
    {
      "cell_type": "code",
      "source": [
        "# housing 변수에 불러온 데이터 저장, 5행 불러오기.\n",
        "housing = load_housing_data()\n",
        "housing.head()"
      ],
      "metadata": {
        "id": "FRwuLJfxYJab"
      },
      "execution_count": null,
      "outputs": []
    },
    {
      "cell_type": "code",
      "source": [
        "# feature는 longitude, longitude housing_median_age total_rooms total_bedrooms~"
      ],
      "metadata": {
        "id": "_A8uOWrSYM1n"
      },
      "execution_count": null,
      "outputs": []
    },
    {
      "cell_type": "code",
      "source": [
        "# 데이터에 대한 간단한 설명\n",
        "\n",
        "housing.info()"
      ],
      "metadata": {
        "id": "NcwM539jYipm"
      },
      "execution_count": null,
      "outputs": []
    },
    {
      "cell_type": "code",
      "source": [
        "# ocean_proximity 의 경우, Dtype이 object, 아마 범주형 추정\n",
        "# 어떤 카테고리가 있고 얼마나 많은 구역이 있는지 확인\n",
        "\n",
        "housing[\"ocean_proximity\"].value_counts()\n"
      ],
      "metadata": {
        "id": "bHWfejGTYlEJ"
      },
      "execution_count": null,
      "outputs": []
    },
    {
      "cell_type": "code",
      "source": [
        "# descrobe method : 숫자형 특성의 요약 정보 나타냄\n",
        "\n",
        "housing.describe()"
      ],
      "metadata": {
        "id": "X9p6J5ysZPt6"
      },
      "execution_count": null,
      "outputs": []
    },
    {
      "cell_type": "code",
      "source": [
        "# 숫자형 데이터에 대해 히스토그램으로 시각화해보기\n",
        "\n",
        "%matplotlib inline\n",
        "\n",
        "import matplotlib.pyplot as plt\n",
        "housing.hist(bins=50,figsize=(10,8))\n",
        "plt.show()"
      ],
      "metadata": {
        "id": "du_Wb0GjZfL1"
      },
      "execution_count": null,
      "outputs": []
    },
    {
      "cell_type": "code",
      "source": [
        "# housing_median_age , median_house_value feature들을 봤을때, 젤 오른쪽 값이 급격하게 높아지면서 히스토그램이 끝남.\n",
        "# 이는 마지막 값으로 한정 (한계값을 넘어가지 않도록 미리 최댓값을 정해서 설정해놓은것을 알 수 있음. ) 이 부분이 문제가 되는 지 안되는지 검토할 필요가 있음.\n",
        "# 만약 정확한 예측값이 필요한 경우, a. 한곗값 밖의 구역에 대한 정확한 레이블을 구한다. b. 훈련 세트에서 이런 구역을 제거한다. (테스트세트에서도 제거)"
      ],
      "metadata": {
        "id": "MItW5LBijM59"
      },
      "execution_count": null,
      "outputs": []
    },
    {
      "cell_type": "markdown",
      "source": [
        "### 테스트 세트 만들기"
      ],
      "metadata": {
        "id": "0lHW4BALllWe"
      }
    },
    {
      "cell_type": "markdown",
      "source": [
        "순수한 무작위 방식"
      ],
      "metadata": {
        "id": "ucTHsCjDjvm6"
      }
    },
    {
      "cell_type": "code",
      "source": [
        "import numpy as np\n",
        "\n",
        "def split_train_test(data, test_ratio):\n",
        "  shuffled_indices = np.random.permutation(len(data))\n",
        "  test_set_size = int(len(data)*test_ratio)\n",
        "  test_indices = shuffled_indices[:test_set_size]\n",
        "  train_indices = shuffled_indices[test_set_size:]\n",
        "  return data.iloc[train_indices], data.iloc[test_indices]"
      ],
      "metadata": {
        "id": "_A2kAolZlxr0"
      },
      "execution_count": null,
      "outputs": []
    },
    {
      "cell_type": "code",
      "source": [
        "train_set, test_set = split_train_test(housing, 0.2)\n",
        "\n",
        "print(len(train_set))\n",
        "print(len(test_set))"
      ],
      "metadata": {
        "id": "f1W2dztTmor1"
      },
      "execution_count": null,
      "outputs": []
    },
    {
      "cell_type": "code",
      "source": [
        "# 프로그램을 다시 실행하면 다른 테스트 세트 생성 , \n",
        "# --> 알고리즘이 전체 데이터셋을 볼 수도.. 따라서 기존 훈련과 test를 완벽히 분리해야함.\n",
        "# 이를 구현한 코드\n",
        "import numpy as np\n",
        "\n",
        "from zlib import crc32\n",
        "\n",
        "def test_set_check(identifier, test_ratio):\n",
        "  return crc32(np.int64(identifier)) & 0xffffffff < test_ratio * 2**32\n",
        "\n",
        "def split_train_test_by_id(data, test_ratio, id_column):\n",
        "  ids = data[id_column]\n",
        "  in_test_set = ids.apply(lambda id_: test_set_check(id_, test_ratio))\n",
        "  return data.loc[~in_test_set], data.loc[in_test_set]\n",
        "  \n"
      ],
      "metadata": {
        "id": "N6eecUJEmytg"
      },
      "execution_count": null,
      "outputs": []
    },
    {
      "cell_type": "code",
      "source": [
        "housing_with_id = housing.reset_index()\n",
        "\n",
        "train_set, test_set = split_train_test_by_id(housing_with_id, 0.2, \"index\")"
      ],
      "metadata": {
        "id": "7rZ8NvblstSv"
      },
      "execution_count": null,
      "outputs": []
    },
    {
      "cell_type": "code",
      "source": [
        "housing_with_id[\"id\"] = housing[\"longitude\"] * 1000 + housing[\"latitude\"]\n",
        "train_set, test_set = split_train_test_by_id(housing_with_id, 0.2, \"id\")"
      ],
      "metadata": {
        "id": "WHtgRYFYtPop"
      },
      "execution_count": null,
      "outputs": []
    },
    {
      "cell_type": "code",
      "source": [
        "# 사이킷런을 통해 데이터셋을 train, test로 분리\n",
        "\n",
        "from sklearn.model_selection import train_test_split\n",
        "\n",
        "train_set, test_set= train_test_split(housing, test_size=0.2, random_state=42)"
      ],
      "metadata": {
        "id": "0XPBMQhJty7Q"
      },
      "execution_count": null,
      "outputs": []
    },
    {
      "cell_type": "markdown",
      "source": [
        "계층적 샘플링 방식\n",
        "\n",
        "특정 방식을 유지하면서 샘플 추출"
      ],
      "metadata": {
        "id": "9lQfIJonj0-X"
      }
    },
    {
      "cell_type": "code",
      "source": [
        "# 전문가들이 중간 소득이 중간 주택 가격을 예측하는데 익어서 매우 중요하다고 한다. \n",
        "# 이 경우, 중간 소득의 비율을 유지하면서 / 즉, 테스트 세트가 전체 데이터셋에 있는 여러 소득 카테고리를 잘 대표해야한다."
      ],
      "metadata": {
        "id": "azn9emFVj24y"
      },
      "execution_count": null,
      "outputs": []
    },
    {
      "cell_type": "code",
      "source": [
        "housing[\"income_cat\"] = pd.cut(housing[\"median_income\"], bins=[0.,1.5,3.0,4.5,6., np.inf], labels=[1,2,3,4,5])\n",
        "housing[\"income_cat\"].hist()\n"
      ],
      "metadata": {
        "id": "hFAaTyHGkSRK"
      },
      "execution_count": null,
      "outputs": []
    },
    {
      "cell_type": "code",
      "source": [
        "from sklearn.model_selection import StratifiedShuffleSplit\n",
        "\n",
        "split = StratifiedShuffleSplit(n_splits = 1, test_size = 0.2, random_state = 42)\n",
        "for train_index, test_index in split.split(housing, housing[\"income_cat\"]):\n",
        "  strat_train_set = housing.loc[train_index]\n",
        "  strat_test_set = housing.loc[test_index]"
      ],
      "metadata": {
        "id": "v2pIAR5okjg4"
      },
      "execution_count": null,
      "outputs": []
    },
    {
      "cell_type": "code",
      "source": [
        "strat_test_set[\"income_cat\"].value_counts() / len(strat_test_set)"
      ],
      "metadata": {
        "id": "Au6fe6QvmGaZ"
      },
      "execution_count": null,
      "outputs": []
    },
    {
      "cell_type": "code",
      "source": [
        "# income_cat특성 삭제, 데이터 원래 상태로 복구\n",
        "\n",
        "for set_ in (strat_train_set, strat_test_set):\n",
        "  set_.drop(\"income_cat\", axis=1, inplace=True)"
      ],
      "metadata": {
        "id": "6Wg4mjg7mNr8"
      },
      "execution_count": null,
      "outputs": []
    },
    {
      "cell_type": "markdown",
      "source": [
        "### 데이터 이해를 위한 탐색과 시각화"
      ],
      "metadata": {
        "id": "iPylFhTbm9JB"
      }
    },
    {
      "cell_type": "code",
      "source": [
        "# 훈련세트 손상 시키지 않기 위해 복사본 만들어 사용\n",
        "\n",
        "housing = strat_train_set.copy()"
      ],
      "metadata": {
        "id": "_9uZPiXBnMZx"
      },
      "execution_count": null,
      "outputs": []
    },
    {
      "cell_type": "code",
      "source": [
        "# 지리적 데이터 시각화 ( 지리정보 ) --> 산점도\n",
        "\n",
        "housing.plot(kind=\"scatter\", x=\"longitude\", y=\"latitude\", alpha=0.1)\n",
        "\n",
        "# alpha 옵션 -> 데이터 포인트가 밀집된 영역을 잘 보여줌."
      ],
      "metadata": {
        "id": "mCp9knr0nXcZ"
      },
      "execution_count": null,
      "outputs": []
    },
    {
      "cell_type": "code",
      "source": [
        "housing.plot(kind=\"scatter\", x=\"longitude\", y=\"latitude\", alpha=0.4,\n",
        "             s=housing[\"population\"]/100, label=\"population\", figsize=(10,7),\n",
        "             c=\"median_house_value\", cmap=plt.get_cmap(\"jet\"), colorbar=True, \n",
        "             sharex=False\n",
        "             )\n",
        "plt.legend()"
      ],
      "metadata": {
        "id": "64qcZpIZnj9u"
      },
      "execution_count": null,
      "outputs": []
    },
    {
      "cell_type": "code",
      "source": [
        "# 위 시각화 그림을 통해 주액 가격은 지역과 인구 밀도에 관련이 크다는 것을 확인 가능."
      ],
      "metadata": {
        "id": "PkShJJOkeUJ7"
      },
      "execution_count": null,
      "outputs": []
    },
    {
      "cell_type": "markdown",
      "source": [
        "### 상관관계 조사"
      ],
      "metadata": {
        "id": "yi2FLJP4fXoW"
      }
    },
    {
      "cell_type": "code",
      "source": [
        "# 표준 상관계수(피어슨의 r) corr() method 사용\n",
        "\n",
        "corr_matrix = housing.corr()"
      ],
      "metadata": {
        "id": "ShiO55vtfZiX"
      },
      "execution_count": null,
      "outputs": []
    },
    {
      "cell_type": "code",
      "source": [
        "corr_matrix[\"median_house_value\"].sort_values(ascending=False)"
      ],
      "metadata": {
        "id": "KTYED5P-fm2c"
      },
      "execution_count": null,
      "outputs": []
    },
    {
      "cell_type": "code",
      "source": [
        "from ast import Attribute\n",
        "# scatter_matrix 함수 사용해서 산점도 그려서 상관관계 확인\n",
        "\n",
        "from pandas.plotting import scatter_matrix\n",
        "attributes = [\"median_house_value\",\"median_income\", \"total_rooms\",\"housing_median_age\"]\n",
        "scatter_matrix(housing[attributes], figsize=(8,5))"
      ],
      "metadata": {
        "id": "WK0CNVN4fxYW"
      },
      "execution_count": null,
      "outputs": []
    },
    {
      "cell_type": "code",
      "source": [
        "# median_house_value을 예측하는데 중간소득이 가장 유용 해당 상관관계 산점도\n",
        "\n",
        "housing.plot(kind=\"scatter\", x=\"median_income\", y=\"median_house_value\",\n",
        "             alpha=0.1)\n"
      ],
      "metadata": {
        "id": "SfnBzDJagpTQ"
      },
      "execution_count": null,
      "outputs": []
    },
    {
      "cell_type": "code",
      "source": [
        "# 위 그래프에서 직선에 가까운 수평선이 잘 보임. 이런 이상한 형태 학습하지 않도록 해당 구역 제거할 필요 있음."
      ],
      "metadata": {
        "id": "4ygeBqiEhMGw"
      },
      "execution_count": null,
      "outputs": []
    },
    {
      "cell_type": "markdown",
      "source": [
        "### 특성 조합으로 실험"
      ],
      "metadata": {
        "id": "UcXzq2UUhevN"
      }
    },
    {
      "cell_type": "code",
      "source": [
        "housing.head()"
      ],
      "metadata": {
        "id": "ZBZ6bM_CF8cu"
      },
      "execution_count": null,
      "outputs": []
    },
    {
      "cell_type": "code",
      "source": [
        "housing[\"rooms_per_household\"] = housing[\"total_rooms\"]/housing[\"households\"]\n",
        "housing[\"bedrooms_per_room\"] = housing[\"total_bedrooms\"]/housing[\"total_rooms\"]\n",
        "housing[\"population_per_household\"] = housing[\"population\"]/housing[\"households\"]"
      ],
      "metadata": {
        "id": "is50hkWghjZI"
      },
      "execution_count": null,
      "outputs": []
    },
    {
      "cell_type": "code",
      "source": [
        "corr_matrix = housing.corr()\n",
        "corr_matrix[\"median_house_value\"].sort_values(ascending=False)"
      ],
      "metadata": {
        "id": "0TW_EsKWGb_l"
      },
      "execution_count": null,
      "outputs": []
    },
    {
      "cell_type": "markdown",
      "source": [
        "### 데이터 정제"
      ],
      "metadata": {
        "id": "eQizkzTgHjHw"
      }
    },
    {
      "cell_type": "code",
      "source": [
        "housing.head()"
      ],
      "metadata": {
        "id": "gaMRjKHrL7wr"
      },
      "execution_count": null,
      "outputs": []
    },
    {
      "cell_type": "code",
      "source": [
        "housing.info() # null값 존재 이제 처리"
      ],
      "metadata": {
        "id": "t5TVLhdFHnuF"
      },
      "execution_count": null,
      "outputs": []
    },
    {
      "cell_type": "code",
      "source": [
        "# 처리방법 3가지 1. 해당 구역 제거 2. 전체 특성 삭제 3. 어떤 값으로 채우기(0, 평균, 중간값 등.)\n",
        "\n",
        "# housing.dropna(subset=[\"total_bedrooms\"]) # 옵션1\n",
        "# housing.drop(\"total_bedrooms\", axis=1)  # 옵션2\n",
        "# median = housing[\"total_bedrooms\"].median()\n",
        "# housing[\"total_bedrooms\"].fillna(median,inplace=True)  # 옵션3"
      ],
      "metadata": {
        "id": "_lktH9J1H9xe"
      },
      "execution_count": null,
      "outputs": []
    },
    {
      "cell_type": "code",
      "source": [
        "# 사이킷런의 SimpleImputer을 사용해 누락된 값 손쉽게 다루기 _ 중앙값으로 결측지 채우기\n",
        "\n",
        "from sklearn.impute import SimpleImputer\n",
        "\n",
        "imputer = SimpleImputer(strategy =\"median\")\n",
        "housing_num = housing.drop(\"ocean_proximity\", axis=1)\n",
        "imputer.fit(housing_num)"
      ],
      "metadata": {
        "id": "qFLQuT7LJAjn"
      },
      "execution_count": null,
      "outputs": []
    },
    {
      "cell_type": "code",
      "source": [
        "# 어떤 값을 저장했는지 확인\n",
        "imputer.statistics_"
      ],
      "metadata": {
        "id": "WUfXroNMMGT4"
      },
      "execution_count": null,
      "outputs": []
    },
    {
      "cell_type": "code",
      "source": [
        "housing_num.median().values"
      ],
      "metadata": {
        "id": "YoYFQ7nVMc8o"
      },
      "execution_count": null,
      "outputs": []
    },
    {
      "cell_type": "code",
      "source": [
        "X = imputer.transform(housing_num)"
      ],
      "metadata": {
        "id": "-0Pwr2F3Mze1"
      },
      "execution_count": null,
      "outputs": []
    },
    {
      "cell_type": "code",
      "source": [
        "housing_tr = pd.DataFrame(X, columns = housing_num.columns,\n",
        "                          index=housing_num.index)"
      ],
      "metadata": {
        "id": "vw0KKo_gM-nl"
      },
      "execution_count": null,
      "outputs": []
    },
    {
      "cell_type": "markdown",
      "source": [
        "### 텍스트와 범주형 특성 다루기"
      ],
      "metadata": {
        "id": "quG4YOgseF2x"
      }
    },
    {
      "cell_type": "code",
      "source": [
        "housing.head()"
      ],
      "metadata": {
        "id": "cUjx8W8WeKtA"
      },
      "execution_count": null,
      "outputs": []
    },
    {
      "cell_type": "code",
      "source": [
        "housing_cat = housing[[\"ocean_proximity\"]]\n",
        "housing_cat.head(10)"
      ],
      "metadata": {
        "id": "MSa54dQHeNft"
      },
      "execution_count": null,
      "outputs": []
    },
    {
      "cell_type": "code",
      "source": [
        "# 해당 카테고리를 텍스트에서 숫자로 변환\n",
        "\n",
        "from sklearn.preprocessing import OrdinalEncoder"
      ],
      "metadata": {
        "id": "8uEOsufveUBr"
      },
      "execution_count": null,
      "outputs": []
    },
    {
      "cell_type": "code",
      "source": [
        "ordinal_encoder = OrdinalEncoder()\n",
        "housing_cat_encoded = ordinal_encoder.fit_transform(housing_cat)\n",
        "housing_cat_encoded[:10]"
      ],
      "metadata": {
        "id": "COyyguWse1zi"
      },
      "execution_count": null,
      "outputs": []
    },
    {
      "cell_type": "code",
      "source": [
        "# 카테고리 목록 얻기\n",
        "\n",
        "ordinal_encoder.categories_"
      ],
      "metadata": {
        "id": "1xVpaJVye6zL"
      },
      "execution_count": null,
      "outputs": []
    }
  ]
}