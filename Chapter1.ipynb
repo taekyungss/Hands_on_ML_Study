{
  "nbformat": 4,
  "nbformat_minor": 0,
  "metadata": {
    "colab": {
      "private_outputs": true,
      "provenance": [],
      "mount_file_id": "1_jGV1NJG6No5wh3u2t9aTt2fLu_jrREk",
      "authorship_tag": "ABX9TyOq5ZV6TNH62tUeRNf+1uol",
      "include_colab_link": true
    },
    "kernelspec": {
      "name": "python3",
      "display_name": "Python 3"
    },
    "language_info": {
      "name": "python"
    }
  },
  "cells": [
    {
      "cell_type": "markdown",
      "metadata": {
        "id": "view-in-github",
        "colab_type": "text"
      },
      "source": [
        "<a href=\"https://colab.research.google.com/github/taekyungss/Hands_on_ML_Study/blob/main/Chapter1.ipynb\" target=\"_parent\"><img src=\"https://colab.research.google.com/assets/colab-badge.svg\" alt=\"Open In Colab\"/></a>"
      ]
    },
    {
      "cell_type": "code",
      "execution_count": null,
      "metadata": {
        "id": "OdI_YqCCV8g_"
      },
      "outputs": [],
      "source": [
        "import matplotlib.pyplot as plt\n",
        "import numpy as np\n",
        "import pandas as pd\n",
        "import sklearn.linear_model"
      ]
    },
    {
      "cell_type": "code",
      "source": [
        "# 구글 드라이브 어마운트\n",
        "\n",
        "from google.colab import drive\n",
        "drive.mount('/content/drive')"
      ],
      "metadata": {
        "id": "U8-D3ybOWfUe"
      },
      "execution_count": null,
      "outputs": []
    },
    {
      "cell_type": "code",
      "source": [
        "def prepare_country_stats(oecd_bli, gdp_per_capita):\n",
        "    oecd_bli = oecd_bli[oecd_bli[\"INEQUALITY\"]==\"TOT\"]\n",
        "    oecd_bli = oecd_bli.pivot(index=\"Country\", columns=\"Indicator\", values=\"Value\")\n",
        "    gdp_per_capita.rename(columns={\"2015\": \"GDP per capita\"}, inplace=True)\n",
        "    gdp_per_capita.set_index(\"Country\", inplace=True)\n",
        "    full_country_stats = pd.merge(left=oecd_bli, right=gdp_per_capita,\n",
        "                                  left_index=True, right_index=True)\n",
        "    full_country_stats.sort_values(by=\"GDP per capita\", inplace=True)\n",
        "    remove_indices = [0, 1, 6, 8, 33, 34, 35]\n",
        "    keep_indices = list(set(range(36)) - set(remove_indices))\n",
        "    return full_country_stats[[\"GDP per capita\", 'Life satisfaction']].iloc[keep_indices]"
      ],
      "metadata": {
        "id": "QCrLVtBcnnxZ"
      },
      "execution_count": null,
      "outputs": []
    },
    {
      "cell_type": "code",
      "source": [
        "# 데이터 적재\n",
        "\n",
        "filename1='/content/drive/MyDrive/Colab Notebooks/Hands on Machine Learning/핸즈온 dataset/lifesat/oecd_bli_2015.csv'\n",
        "filename2 = '/content/drive/MyDrive/Colab Notebooks/Hands on Machine Learning/핸즈온 dataset/lifesat/gdp_per_capita.csv'\n",
        "oecd_bli = pd.read_csv(filename1, thousands=\",\")\n",
        "gdp_oer_capita = pd.read_csv(filename2, thousands=\",\", delimiter='\\t', encoding=\"latin1\", na_values=\"n/a\")"
      ],
      "metadata": {
        "id": "vv6f3Fx4j0pn"
      },
      "execution_count": null,
      "outputs": []
    },
    {
      "cell_type": "code",
      "source": [
        "# 데이터 준비\n",
        "country_stats = prepare_country_stats(oecd_bli, gdp_oer_capita)\n",
        "X = np.c_[country_stats[\"GDP per capita\"]]\n",
        "y = np.c_[country_stats[\"Life satisfaction\"]]"
      ],
      "metadata": {
        "id": "3ZnTai3nkFvF"
      },
      "execution_count": null,
      "outputs": []
    },
    {
      "cell_type": "code",
      "source": [
        "# 데이터 시각화\n",
        "country_stats.plot(kind=\"scatter\", x=\"GDP per capita\", y=\"Life satisfaction\")\n",
        "plt.show()"
      ],
      "metadata": {
        "id": "QId7kjvInSby"
      },
      "execution_count": null,
      "outputs": []
    },
    {
      "cell_type": "code",
      "source": [
        "# 선형 모델 선택\n",
        "\n",
        "model = sklearn.linear_model.LinearRegression()"
      ],
      "metadata": {
        "id": "lNC9_O1j7HE3"
      },
      "execution_count": null,
      "outputs": []
    },
    {
      "cell_type": "code",
      "source": [
        "# 모델 훈련\n",
        "\n",
        "model.fit(X,y)"
      ],
      "metadata": {
        "id": "CTzQdpX37Riw"
      },
      "execution_count": null,
      "outputs": []
    },
    {
      "cell_type": "code",
      "source": [
        "# 키프로스에 대한 예측 만들기\n",
        "\n",
        "X_new = [[22587]] #키프로스 1인단 GDP\n",
        "print(model.predict(X_new)) #결과 [[5.96242338]]"
      ],
      "metadata": {
        "id": "jSUJfS5b7XbX"
      },
      "execution_count": null,
      "outputs": []
    },
    {
      "cell_type": "code",
      "source": [
        "# K-nearest neighbors 회귀 모델 사용\n",
        "\n",
        "import sklearn.neighbors\n",
        "model = sklearn.neighbors.KNeighborsRegressor(n_neighbors=3)"
      ],
      "metadata": {
        "id": "BDzNGBZY7phU"
      },
      "execution_count": null,
      "outputs": []
    },
    {
      "cell_type": "code",
      "source": [
        "model.fit(X,y)"
      ],
      "metadata": {
        "id": "MP0rEeHW8Lpj"
      },
      "execution_count": null,
      "outputs": []
    },
    {
      "cell_type": "code",
      "source": [
        "X_new = [[22587]] #키프로스 1인단 GDP\n",
        "print(model.predict(X_new)) #결과 [[5.76666667]]"
      ],
      "metadata": {
        "id": "RXY009zZ8OKN"
      },
      "execution_count": null,
      "outputs": []
    }
  ]
}