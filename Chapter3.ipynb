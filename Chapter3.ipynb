{
  "nbformat": 4,
  "nbformat_minor": 0,
  "metadata": {
    "colab": {
      "private_outputs": true,
      "provenance": [],
      "authorship_tag": "ABX9TyNjFXTL98mFtw1R7HyHGen0",
      "include_colab_link": true
    },
    "kernelspec": {
      "name": "python3",
      "display_name": "Python 3"
    },
    "language_info": {
      "name": "python"
    }
  },
  "cells": [
    {
      "cell_type": "markdown",
      "metadata": {
        "id": "view-in-github",
        "colab_type": "text"
      },
      "source": [
        "<a href=\"https://colab.research.google.com/github/taekyungss/Hands_on_ML_Study/blob/main/Chapter3.ipynb\" target=\"_parent\"><img src=\"https://colab.research.google.com/assets/colab-badge.svg\" alt=\"Open In Colab\"/></a>"
      ]
    },
    {
      "cell_type": "markdown",
      "source": [
        "### Chapter3. 분류\n",
        "### classfication"
      ],
      "metadata": {
        "id": "VKsmuLBsIM7P"
      }
    },
    {
      "cell_type": "code",
      "source": [
        "# 필요한 라이브러리 불러오기\n",
        "\n",
        "import numpy as np"
      ],
      "metadata": {
        "id": "J53FyrQRNO2c"
      },
      "execution_count": null,
      "outputs": []
    },
    {
      "cell_type": "markdown",
      "source": [
        "지도 학습에서 가장 대표적인 작업이 회귀와 분류\n",
        "(회귀): 값을 예측하는 것\n",
        "(분류): 클래스 예측"
      ],
      "metadata": {
        "id": "-skzxNEAIbYz"
      }
    },
    {
      "cell_type": "code",
      "execution_count": null,
      "metadata": {
        "id": "edDmQ_z8IL1P"
      },
      "outputs": [],
      "source": [
        "# MINIST 데이터셋 내려받는 코드\n",
        "\n",
        "from sklearn.datasets import fetch_openml\n",
        "\n",
        "mnist = fetch_openml(\"mnist_784\", version=1, as_frame = False)\n",
        "mnist.keys()"
      ]
    },
    {
      "cell_type": "markdown",
      "source": [
        "받아와진 데이터셋 안의 keys에는 \n",
        "데이터셋을 설명하는 DESCR, 샘플이 한의 행, 특성이 하나의 열로 구성된 data키,\n",
        "\n",
        "레이블 배열을 담은 target 키 등이 존재함."
      ],
      "metadata": {
        "id": "Um_CYCEGJuli"
      }
    },
    {
      "cell_type": "code",
      "source": [
        "print(mnist[\"data\"])\n",
        "print(\"\\n====\\n\")\n",
        "print(mnist[\"target\"])"
      ],
      "metadata": {
        "id": "Y91F9JzJKVPL"
      },
      "execution_count": null,
      "outputs": []
    },
    {
      "cell_type": "markdown",
      "source": [
        "X에는 데이터를 담고, y에는 레이블이 담겨 있는 것."
      ],
      "metadata": {
        "id": "tCFX4vauKnrl"
      }
    },
    {
      "cell_type": "code",
      "source": [
        "X,y = mnist[\"data\"], mnist[\"target\"]\n",
        "print(X.shape)\n",
        "print(y.shape)"
      ],
      "metadata": {
        "id": "WxhOp7iBI32B"
      },
      "execution_count": null,
      "outputs": []
    },
    {
      "cell_type": "markdown",
      "source": [
        "이미지가 70000개가 존재, 특성은 784개 존재\n",
        "\n",
        "이유: 이미지가 28*28 픽셀이므로?\n",
        "\n",
        "--> 그다음 해야할 작업 데이터셋에서 이미지 하나를 확인해보자\n",
        "\n",
        "방법: 샘플의 특성 벡터를 추출해서 28*28배열로 크기를 변환시킨후, 맷플롯립의 imshow()함수를 사용해 그려보자 "
      ],
      "metadata": {
        "id": "WFzHWHGkK9pv"
      }
    },
    {
      "cell_type": "code",
      "source": [
        "import matplotlib as mpl\n",
        "import matplotlib.pyplot as plt\n",
        "\n",
        "# 샘플의 특성 벡터 추출하기\n",
        "\n",
        "some_digit = X[0]\n",
        "# print(some_digit)\n",
        "\n",
        "#  28*28배열로 크기 변환하기\n",
        "\n",
        "some_digit_image = some_digit.reshape(28,28)\n",
        "# some_digit_image"
      ],
      "metadata": {
        "id": "sDjOZE8IKFXA"
      },
      "execution_count": null,
      "outputs": []
    },
    {
      "cell_type": "code",
      "source": [
        "# 변환한 벡터를 맷플롯립 사용해서 그려보기\n",
        "\n",
        "plt.imshow(some_digit_image, cmap = \"binary\")\n",
        "plt.axis(\"off\")\n",
        "plt.show()"
      ],
      "metadata": {
        "id": "qPc9NU6XLqAv"
      },
      "execution_count": null,
      "outputs": []
    },
    {
      "cell_type": "markdown",
      "source": [
        "이 이미지는 5처럼 보임.. 실제로도 맞는지 레이블 확인해보자"
      ],
      "metadata": {
        "id": "ad9Nw1RgMuze"
      }
    },
    {
      "cell_type": "code",
      "source": [
        "print(y[0])\n",
        "type(y[0])"
      ],
      "metadata": {
        "id": "C0LNslOOMVGH"
      },
      "execution_count": null,
      "outputs": []
    },
    {
      "cell_type": "markdown",
      "source": [
        "레이블도 역시 5로 확인 완료...! 하지만 여기서 레이블 자체가 문자열로 되어 있는데 실제 저건 숫자니까\n",
        "\n",
        "머신러닝 알고리즘에서도 숫자를 기대할것 따라서 y를 정수로 변환해보자"
      ],
      "metadata": {
        "id": "A_wRWWJXM3lo"
      }
    },
    {
      "cell_type": "code",
      "source": [
        "y = y.astype(np.uint8)\n",
        "print(y[0])\n",
        "print(type(y[0]))"
      ],
      "metadata": {
        "id": "VGgz3EDgM01g"
      },
      "execution_count": null,
      "outputs": []
    },
    {
      "cell_type": "markdown",
      "source": [
        "자 이제 분류기를 만들어보자\n",
        "\n",
        "데이터를 자세히 조사하기 위해서는 항상 먼저 테스트 세트를 만들고 따로 떼어놓아야 하지 !!\n",
        "\n",
        "왜냐하면 미리 테스트해봐야하는데 미리 그것까지 학습하면 안되니까...!"
      ],
      "metadata": {
        "id": "r8JjvDSwNlKv"
      }
    },
    {
      "cell_type": "code",
      "source": [
        "X_train, X_test, y_train, y_test = X[:60000], X[60000:],y[:60000],y[60000:]"
      ],
      "metadata": {
        "id": "ku5laCwUNK9g"
      },
      "execution_count": null,
      "outputs": []
    },
    {
      "cell_type": "markdown",
      "source": [
        "이제 이진 분류기 훈련\n",
        "\n",
        "우선, 예를 들면 숫자 5만 식별해보자\n",
        "\n",
        "5-감지기 !\n",
        "\n",
        "5임, 5 아님을 판단해내는 즉 두 클래스를 구분할 수 있는 이진 분류기를 만들어본느거야"
      ],
      "metadata": {
        "id": "_FIQjYM_OXAJ"
      }
    },
    {
      "cell_type": "markdown",
      "source": [
        "분류 작업을 위한 타깃 벡터 만들기"
      ],
      "metadata": {
        "id": "FtpDMBR9O_dx"
      }
    },
    {
      "cell_type": "code",
      "source": [
        "# 우선 train과 test모두 5면 True 5가 아니면 False라고 하도록 해야곘지?\n",
        "\n",
        "y_train_5 = (y_train==5)\n",
        "y_test_5 = (y_test==5)"
      ],
      "metadata": {
        "id": "YhsKn9UbOSWo"
      },
      "execution_count": null,
      "outputs": []
    },
    {
      "cell_type": "markdown",
      "source": [
        "확률적 경사 하강법 SGD 분류기로 시작하기\n",
        "\n",
        "이는 매우 큰 데이터셋을 효율적으로 처리하는 장점을 지님\n",
        "\n",
        "한번에 하나씩 훈련 샘플을 독립적으로 처리"
      ],
      "metadata": {
        "id": "JPOhpkVXPJGl"
      }
    },
    {
      "cell_type": "code",
      "source": [
        "# 학습시키기\n",
        "from sklearn.linear_model import SGDClassifier\n",
        "\n",
        "sgd_clf = SGDClassifier(random_state=42)\n",
        "sgd_clf.fit(X_train, y_train_5)"
      ],
      "metadata": {
        "id": "8DTTItQEPE9n"
      },
      "execution_count": null,
      "outputs": []
    },
    {
      "cell_type": "markdown",
      "source": [
        "궁금증... train_test 모델에서 왜 항상 random_state 값은 42로 설정할까??\n",
        "\n"
      ],
      "metadata": {
        "id": "xuByOBrcPtOJ"
      }
    },
    {
      "cell_type": "markdown",
      "source": [
        "SGDClassifier(random_state=42)\n",
        "\n",
        "뜨면 학습완료\n",
        "\n",
        "이번엔 이 모델을 사용해 숫자 5의 이미지를 감지해보자"
      ],
      "metadata": {
        "id": "C9BUV6qJQyO9"
      }
    },
    {
      "cell_type": "code",
      "source": [
        "sgd_clf.predict([some_digit])"
      ],
      "metadata": {
        "id": "3Z9G6j7QPs73"
      },
      "execution_count": null,
      "outputs": []
    },
    {
      "cell_type": "code",
      "source": [
        "# 정답 ! 모델이 5임을 맞췄음을 보여준다."
      ],
      "metadata": {
        "id": "5UxEUIKvRDpy"
      },
      "execution_count": null,
      "outputs": []
    },
    {
      "cell_type": "markdown",
      "source": [
        "이제 성능을 평가해보는 단계\n",
        "\n",
        "분류기 평가는 회귀모델보다 후러씬 어렵다...! \n",
        "\n",
        "따라서 사용할 수 있는 성능 지표가 많음."
      ],
      "metadata": {
        "id": "GhliR3uXRWV-"
      }
    },
    {
      "cell_type": "code",
      "source": [
        "# 교차 검증을 사용한 정확도 측정"
      ],
      "metadata": {
        "id": "YTjf9i4IRYbp"
      },
      "execution_count": null,
      "outputs": []
    },
    {
      "cell_type": "code",
      "source": [
        "# from sklearn.model_selection import StratifiedGroupKFold\n",
        "# from sklearn.base import clone\n",
        "\n",
        "# skfolds = StratifiedGroupKFold(n_splits=3, random_state=42, shuffle=True)\n",
        "\n",
        "\n",
        "# for train_index, test_index in skfolds.split(X_train, y_train_5):\n",
        "#   clone_clf = clone(sgd_clf)\n",
        "#   X_train_folds = X_train[train_index]\n",
        "#   y_train_folds = y_train_5[train_index]\n",
        "#   X_test_fold = X_train[test_index]\n",
        "#   y_test_fold = y_train_5[test_index]\n",
        "\n",
        "#   clone_clf.fit(X_train_folds,y_train_folds)\n",
        "#   y_pred = clone_clf.predict(X_test_fold)\n",
        "#   n_correct = sum(y_pred == y_test_fold)\n",
        "  # print(n_correct / len(y_pred))\n",
        "\n",
        "  # 교차검증 구현과정\n",
        "  "
      ],
      "metadata": {
        "id": "C0yHdJg2RmCQ"
      },
      "execution_count": null,
      "outputs": []
    },
    {
      "cell_type": "code",
      "source": [
        "from sklearn.model_selection import cross_val_score\n",
        "\n",
        "cross_val_score(sgd_clf, X_train, y_train_5, cv=3, scoring=\"accuracy\")"
      ],
      "metadata": {
        "id": "w3oQcNdZjDYa"
      },
      "execution_count": null,
      "outputs": []
    },
    {
      "cell_type": "code",
      "source": [
        "# 더미 분류기를 만들어 비교해보자\n",
        "\n",
        "from sklearn.base import BaseEstimator\n",
        "\n",
        "class Never5Classfier(BaseEstimator):\n",
        "  def fit(self,X,y=None):\n",
        "    return self\n",
        "  def predict(self,X):\n",
        "    return np.zeros((len(X),1),dtype=bool)"
      ],
      "metadata": {
        "id": "TVY8awTImsOp"
      },
      "execution_count": null,
      "outputs": []
    },
    {
      "cell_type": "code",
      "source": [
        "never_5_clf = Never5Classfier()"
      ],
      "metadata": {
        "id": "APscw_YznUdd"
      },
      "execution_count": null,
      "outputs": []
    },
    {
      "cell_type": "code",
      "source": [
        "cross_val_score(never_5_clf, X_train, y_train_5, cv=3, scoring=\"accuracy\")"
      ],
      "metadata": {
        "id": "_NF6AJTLnbqz"
      },
      "execution_count": null,
      "outputs": []
    },
    {
      "cell_type": "markdown",
      "source": [
        "오차행렬 조사하는것 - 분류기의 성능을 평가하는 더 좋은 방법\n",
        "\n",
        "클래스 A의 샘플이 클래스 B로 분류된 회수를 세는 것"
      ],
      "metadata": {
        "id": "nXobl-ITnwOs"
      }
    },
    {
      "cell_type": "code",
      "source": [
        "from sklearn.model_selection import cross_val_predict\n",
        "\n",
        "y_train_pred = cross_val_predict(sgd_clf, X_train, y_train_5, cv=3)"
      ],
      "metadata": {
        "id": "OAuE58yQn3bt"
      },
      "execution_count": null,
      "outputs": []
    },
    {
      "cell_type": "code",
      "source": [
        "from sklearn.metrics import confusion_matrix\n",
        "\n",
        "confusion_matrix(y_train_5, y_train_pred)"
      ],
      "metadata": {
        "id": "njyBydRaqWIp"
      },
      "execution_count": null,
      "outputs": []
    },
    {
      "cell_type": "markdown",
      "source": [
        "정밀도와 재현율\n",
        "\n",
        "F1score . 정밀도와 재현율의 조화평균\n",
        "\n",
        "F1= 2/((1/정밀도)+(1/재현율))"
      ],
      "metadata": {
        "id": "iO2Grh0BrBGF"
      }
    },
    {
      "cell_type": "code",
      "source": [
        "from sklearn.metrics import precision_score, recall_score\n",
        "\n",
        "precision_score(y_train_5, y_train_pred)"
      ],
      "metadata": {
        "id": "RuMd0vEMqkh6"
      },
      "execution_count": null,
      "outputs": []
    },
    {
      "cell_type": "code",
      "source": [
        "# f1 score 는 f1_score 함수 호출\n",
        "\n",
        "from sklearn.metrics import f1_score\n",
        "f1_score(y_train_5, y_train_pred)"
      ],
      "metadata": {
        "id": "zTeHd2ZvrPGi"
      },
      "execution_count": null,
      "outputs": []
    },
    {
      "cell_type": "markdown",
      "source": [
        "정밀도를 올리면 재현율이 줄고 반대도 마찬가지 -> 이를 정밀도/재현율 트레이드 오프라고 함"
      ],
      "metadata": {
        "id": "CsGElGm7r4Ne"
      }
    },
    {
      "cell_type": "code",
      "source": [],
      "metadata": {
        "id": "gDGctsB1r0iN"
      },
      "execution_count": null,
      "outputs": []
    }
  ]
}