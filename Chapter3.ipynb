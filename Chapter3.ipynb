{
  "nbformat": 4,
  "nbformat_minor": 0,
  "metadata": {
    "colab": {
      "private_outputs": true,
      "provenance": [],
      "authorship_tag": "ABX9TyNJy1OVyW92SLXMbW6SunQB",
      "include_colab_link": true
    },
    "kernelspec": {
      "name": "python3",
      "display_name": "Python 3"
    },
    "language_info": {
      "name": "python"
    }
  },
  "cells": [
    {
      "cell_type": "markdown",
      "metadata": {
        "id": "view-in-github",
        "colab_type": "text"
      },
      "source": [
        "<a href=\"https://colab.research.google.com/github/taekyungss/Hands_on_ML_Study/blob/main/Chapter3.ipynb\" target=\"_parent\"><img src=\"https://colab.research.google.com/assets/colab-badge.svg\" alt=\"Open In Colab\"/></a>"
      ]
    },
    {
      "cell_type": "markdown",
      "source": [
        "### Chapter3. 분류\n",
        "### classfication"
      ],
      "metadata": {
        "id": "VKsmuLBsIM7P"
      }
    },
    {
      "cell_type": "code",
      "source": [
        "# 필요한 라이브러리 불러오기\n",
        "\n",
        "import numpy as np"
      ],
      "metadata": {
        "id": "J53FyrQRNO2c"
      },
      "execution_count": null,
      "outputs": []
    },
    {
      "cell_type": "markdown",
      "source": [
        "지도 학습에서 가장 대표적인 작업이 회귀와 분류\n",
        "(회귀): 값을 예측하는 것\n",
        "(분류): 클래스 예측"
      ],
      "metadata": {
        "id": "-skzxNEAIbYz"
      }
    },
    {
      "cell_type": "code",
      "execution_count": null,
      "metadata": {
        "id": "edDmQ_z8IL1P"
      },
      "outputs": [],
      "source": [
        "# MINIST 데이터셋 내려받는 코드\n",
        "\n",
        "from sklearn.datasets import fetch_openml\n",
        "\n",
        "mnist = fetch_openml(\"mnist_784\", version=1, as_frame = False)\n",
        "mnist.keys()"
      ]
    },
    {
      "cell_type": "markdown",
      "source": [
        "받아와진 데이터셋 안의 keys에는 \n",
        "데이터셋을 설명하는 DESCR, 샘플이 한의 행, 특성이 하나의 열로 구성된 data키,\n",
        "\n",
        "레이블 배열을 담은 target 키 등이 존재함."
      ],
      "metadata": {
        "id": "Um_CYCEGJuli"
      }
    },
    {
      "cell_type": "code",
      "source": [
        "print(mnist[\"data\"])\n",
        "print(\"\\n====\\n\")\n",
        "print(mnist[\"target\"])"
      ],
      "metadata": {
        "id": "Y91F9JzJKVPL"
      },
      "execution_count": null,
      "outputs": []
    },
    {
      "cell_type": "markdown",
      "source": [
        "X에는 데이터를 담고, y에는 레이블이 담겨 있는 것."
      ],
      "metadata": {
        "id": "tCFX4vauKnrl"
      }
    },
    {
      "cell_type": "code",
      "source": [
        "X,y = mnist[\"data\"], mnist[\"target\"]\n",
        "print(X.shape)\n",
        "print(y.shape)"
      ],
      "metadata": {
        "id": "WxhOp7iBI32B"
      },
      "execution_count": null,
      "outputs": []
    },
    {
      "cell_type": "markdown",
      "source": [
        "이미지가 70000개가 존재, 특성은 784개 존재\n",
        "\n",
        "이유: 이미지가 28*28 픽셀이므로?\n",
        "\n",
        "--> 그다음 해야할 작업 데이터셋에서 이미지 하나를 확인해보자\n",
        "\n",
        "방법: 샘플의 특성 벡터를 추출해서 28*28배열로 크기를 변환시킨후, 맷플롯립의 imshow()함수를 사용해 그려보자 "
      ],
      "metadata": {
        "id": "WFzHWHGkK9pv"
      }
    },
    {
      "cell_type": "code",
      "source": [
        "import matplotlib as mpl\n",
        "import matplotlib.pyplot as plt\n",
        "\n",
        "# 샘플의 특성 벡터 추출하기\n",
        "\n",
        "some_digit = X[0]\n",
        "# print(some_digit)\n",
        "\n",
        "#  28*28배열로 크기 변환하기\n",
        "\n",
        "some_digit_image = some_digit.reshape(28,28)\n",
        "# some_digit_image"
      ],
      "metadata": {
        "id": "sDjOZE8IKFXA"
      },
      "execution_count": null,
      "outputs": []
    },
    {
      "cell_type": "code",
      "source": [
        "# 변환한 벡터를 맷플롯립 사용해서 그려보기\n",
        "\n",
        "plt.imshow(some_digit_image, cmap = \"binary\")\n",
        "plt.axis(\"off\")\n",
        "plt.show()"
      ],
      "metadata": {
        "id": "qPc9NU6XLqAv"
      },
      "execution_count": null,
      "outputs": []
    },
    {
      "cell_type": "markdown",
      "source": [
        "이 이미지는 5처럼 보임.. 실제로도 맞는지 레이블 확인해보자"
      ],
      "metadata": {
        "id": "ad9Nw1RgMuze"
      }
    },
    {
      "cell_type": "code",
      "source": [
        "print(y[0])\n",
        "type(y[0])"
      ],
      "metadata": {
        "id": "C0LNslOOMVGH"
      },
      "execution_count": null,
      "outputs": []
    },
    {
      "cell_type": "markdown",
      "source": [
        "레이블도 역시 5로 확인 완료...! 하지만 여기서 레이블 자체가 문자열로 되어 있는데 실제 저건 숫자니까\n",
        "\n",
        "머신러닝 알고리즘에서도 숫자를 기대할것 따라서 y를 정수로 변환해보자"
      ],
      "metadata": {
        "id": "A_wRWWJXM3lo"
      }
    },
    {
      "cell_type": "code",
      "source": [
        "y = y.astype(np.uint8)\n",
        "print(y[0])\n",
        "print(type(y[0]))"
      ],
      "metadata": {
        "id": "VGgz3EDgM01g"
      },
      "execution_count": null,
      "outputs": []
    },
    {
      "cell_type": "markdown",
      "source": [
        "자 이제 분류기를 만들어보자\n",
        "\n",
        "데이터를 자세히 조사하기 위해서는 항상 먼저 테스트 세트를 만들고 따로 떼어놓아야 하지 !!\n",
        "\n",
        "왜냐하면 미리 테스트해봐야하는데 미리 그것까지 학습하면 안되니까...!"
      ],
      "metadata": {
        "id": "r8JjvDSwNlKv"
      }
    },
    {
      "cell_type": "code",
      "source": [
        "X_train, X_test, y_train, y_test = X[:60000], X[60000:],y[:60000],y[60000:]"
      ],
      "metadata": {
        "id": "ku5laCwUNK9g"
      },
      "execution_count": null,
      "outputs": []
    },
    {
      "cell_type": "markdown",
      "source": [
        "이제 이진 분류기 훈련\n",
        "\n",
        "우선, 예를 들면 숫자 5만 식별해보자\n",
        "\n",
        "5-감지기 !\n",
        "\n",
        "5임, 5 아님을 판단해내는 즉 두 클래스를 구분할 수 있는 이진 분류기를 만들어본느거야"
      ],
      "metadata": {
        "id": "_FIQjYM_OXAJ"
      }
    },
    {
      "cell_type": "markdown",
      "source": [
        "분류 작업을 위한 타깃 벡터 만들기"
      ],
      "metadata": {
        "id": "FtpDMBR9O_dx"
      }
    },
    {
      "cell_type": "code",
      "source": [
        "# 우선 train과 test모두 5면 True 5가 아니면 False라고 하도록 해야곘지?\n",
        "\n",
        "y_train_5 = (y_train==5)\n",
        "y_test_5 = (y_test==5)"
      ],
      "metadata": {
        "id": "YhsKn9UbOSWo"
      },
      "execution_count": null,
      "outputs": []
    },
    {
      "cell_type": "markdown",
      "source": [
        "확률적 경사 하강법 SGD 분류기로 시작하기\n",
        "\n",
        "이는 매우 큰 데이터셋을 효율적으로 처리하는 장점을 지님\n",
        "\n",
        "한번에 하나씩 훈련 샘플을 독립적으로 처리"
      ],
      "metadata": {
        "id": "JPOhpkVXPJGl"
      }
    },
    {
      "cell_type": "code",
      "source": [
        "# 학습시키기\n",
        "from sklearn.linear_model import SGDClassifier\n",
        "\n",
        "sgd_clf = SGDClassifier(random_state=42)\n",
        "sgd_clf.fit(X_train, y_train_5)"
      ],
      "metadata": {
        "id": "8DTTItQEPE9n"
      },
      "execution_count": null,
      "outputs": []
    },
    {
      "cell_type": "markdown",
      "source": [
        "궁금증... train_test 모델에서 왜 항상 random_state 값은 42로 설정할까??\n",
        "\n"
      ],
      "metadata": {
        "id": "xuByOBrcPtOJ"
      }
    },
    {
      "cell_type": "markdown",
      "source": [
        "SGDClassifier(random_state=42)\n",
        "\n",
        "뜨면 학습완료\n",
        "\n",
        "이번엔 이 모델을 사용해 숫자 5의 이미지를 감지해보자"
      ],
      "metadata": {
        "id": "C9BUV6qJQyO9"
      }
    },
    {
      "cell_type": "code",
      "source": [
        "sgd_clf.predict([some_digit])"
      ],
      "metadata": {
        "id": "3Z9G6j7QPs73"
      },
      "execution_count": null,
      "outputs": []
    },
    {
      "cell_type": "code",
      "source": [
        "# 정답 ! 모델이 5임을 맞췄음을 보여준다."
      ],
      "metadata": {
        "id": "5UxEUIKvRDpy"
      },
      "execution_count": null,
      "outputs": []
    },
    {
      "cell_type": "markdown",
      "source": [
        "이제 성능을 평가해보는 단계\n",
        "\n",
        "분류기 평가는 회귀모델보다 후러씬 어렵다...! \n",
        "\n",
        "따라서 사용할 수 있는 성능 지표가 많음."
      ],
      "metadata": {
        "id": "GhliR3uXRWV-"
      }
    },
    {
      "cell_type": "code",
      "source": [
        "# 교차 검증을 사용한 정확도 측정"
      ],
      "metadata": {
        "id": "YTjf9i4IRYbp"
      },
      "execution_count": null,
      "outputs": []
    },
    {
      "cell_type": "code",
      "source": [],
      "metadata": {
        "id": "C0yHdJg2RmCQ"
      },
      "execution_count": null,
      "outputs": []
    }
  ]
}